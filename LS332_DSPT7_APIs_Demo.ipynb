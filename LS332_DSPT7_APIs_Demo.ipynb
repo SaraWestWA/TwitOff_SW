{
 "cells": [
  {
   "cell_type": "markdown",
   "metadata": {
    "toc": true
   },
   "source": [
    "<h1>Table of Contents<span class=\"tocSkip\"></span></h1>\n",
    "<div class=\"toc\"><ul class=\"toc-item\"><li><span><a href=\"#DSPT6---Unit-3-Module-2---Consuming-Data-from-an-API\" data-toc-modified-id=\"DSPT6---Unit-3-Module-2---Consuming-Data-from-an-API-1\"><span class=\"toc-item-num\">1&nbsp;&nbsp;</span>DSPT6 - Unit 3 Module 2 - Consuming Data from an API</a></span></li><li><span><a href=\"#SpaCy-Embeddings\" data-toc-modified-id=\"SpaCy-Embeddings-2\"><span class=\"toc-item-num\">2&nbsp;&nbsp;</span>SpaCy Embeddings</a></span></li><li><span><a href=\"#Bringing-it-all-together\" data-toc-modified-id=\"Bringing-it-all-together-3\"><span class=\"toc-item-num\">3&nbsp;&nbsp;</span>Bringing it all together</a></span></li></ul></div>"
   ]
  },
  {
   "cell_type": "markdown",
   "metadata": {
    "colab": {
     "base_uri": "https://localhost:8080/",
     "height": 155
    },
    "colab_type": "code",
    "id": "SGPLRW-t1ECX",
    "outputId": "f774218a-8e3e-46b3-80ec-8eb1667ddd33"
   },
   "source": [
    "### DSPT6 - Unit 3 Module 2 - Consuming Data from an API\n",
    "\n",
    "The purpose of this notebook is to demonstrate:\n",
    "- Connect to the Twitter API (and twitter_scraper) to query for tweets and user information by various parameters\n",
    "- Convert tweet text using SpaCy into numerical embeddings that can be use in a predictive model"
   ]
  },
  {
   "cell_type": "code",
   "execution_count": 3,
   "metadata": {},
   "outputs": [],
   "source": [
    "import tweepy"
   ]
  },
  {
   "cell_type": "code",
   "execution_count": 4,
   "metadata": {
    "colab": {},
    "colab_type": "code",
    "id": "6F65yM5G1gP1"
   },
   "outputs": [],
   "source": [
    "TWITTER_AUTH = tweepy.OAuthHandler(TWITTER_CONSUMER_API_KEY, TWITTER_CONSUMER_API_SECRET)\n",
    "TWITTER_AUTH.set_access_token(TWITTER_ACCESS_TOKEN, TWITTER_ACCESS_TOKEN_SECRET)\n",
    "TWITTER = tweepy.API(TWITTER_AUTH)"
   ]
  },
  {
   "cell_type": "code",
   "execution_count": 5,
   "metadata": {},
   "outputs": [
    {
     "output_type": "execute_result",
     "data": {
      "text/plain": "[&#39;__class__&#39;,\n &#39;__delattr__&#39;,\n &#39;__dict__&#39;,\n &#39;__dir__&#39;,\n &#39;__doc__&#39;,\n &#39;__eq__&#39;,\n &#39;__format__&#39;,\n &#39;__ge__&#39;,\n &#39;__getattribute__&#39;,\n &#39;__gt__&#39;,\n &#39;__hash__&#39;,\n &#39;__init__&#39;,\n &#39;__init_subclass__&#39;,\n &#39;__le__&#39;,\n &#39;__lt__&#39;,\n &#39;__module__&#39;,\n &#39;__ne__&#39;,\n &#39;__new__&#39;,\n &#39;__reduce__&#39;,\n &#39;__reduce_ex__&#39;,\n &#39;__repr__&#39;,\n &#39;__setattr__&#39;,\n &#39;__sizeof__&#39;,\n &#39;__str__&#39;,\n &#39;__subclasshook__&#39;,\n &#39;__weakref__&#39;,\n &#39;_add_list_members&#39;,\n &#39;_lookup_friendships&#39;,\n &#39;_pack_image&#39;,\n &#39;_remove_list_members&#39;,\n &#39;_send_direct_message&#39;,\n &#39;add_list_member&#39;,\n &#39;add_list_members&#39;,\n &#39;api_root&#39;,\n &#39;auth&#39;,\n &#39;blocks&#39;,\n &#39;blocks_ids&#39;,\n &#39;cache&#39;,\n &#39;compression&#39;,\n &#39;configuration&#39;,\n &#39;create_block&#39;,\n &#39;create_favorite&#39;,\n &#39;create_friendship&#39;,\n &#39;create_list&#39;,\n &#39;create_media_metadata&#39;,\n &#39;create_mute&#39;,\n &#39;create_saved_search&#39;,\n &#39;destroy_block&#39;,\n &#39;destroy_direct_message&#39;,\n &#39;destroy_favorite&#39;,\n &#39;destroy_friendship&#39;,\n &#39;destroy_list&#39;,\n &#39;destroy_mute&#39;,\n &#39;destroy_saved_search&#39;,\n &#39;destroy_status&#39;,\n &#39;favorites&#39;,\n &#39;followers&#39;,\n &#39;followers_ids&#39;,\n &#39;friends&#39;,\n &#39;friends_ids&#39;,\n &#39;friendships_incoming&#39;,\n &#39;friendships_outgoing&#39;,\n &#39;geo_id&#39;,\n &#39;geo_search&#39;,\n &#39;geo_similar_places&#39;,\n &#39;get_direct_message&#39;,\n &#39;get_list&#39;,\n &#39;get_oembed&#39;,\n &#39;get_saved_search&#39;,\n &#39;get_settings&#39;,\n &#39;get_status&#39;,\n &#39;get_user&#39;,\n &#39;home_timeline&#39;,\n &#39;host&#39;,\n &#39;list_direct_messages&#39;,\n &#39;list_members&#39;,\n &#39;list_subscribers&#39;,\n &#39;list_timeline&#39;,\n &#39;lists_all&#39;,\n &#39;lists_memberships&#39;,\n &#39;lists_subscriptions&#39;,\n &#39;lookup_friendships&#39;,\n &#39;lookup_users&#39;,\n &#39;me&#39;,\n &#39;media_upload&#39;,\n &#39;mentions_timeline&#39;,\n &#39;mutes&#39;,\n &#39;mutes_ids&#39;,\n &#39;parser&#39;,\n &#39;proxy&#39;,\n &#39;rate_limit_status&#39;,\n &#39;related_results&#39;,\n &#39;remove_list_member&#39;,\n &#39;remove_list_members&#39;,\n &#39;report_spam&#39;,\n &#39;retry_count&#39;,\n &#39;retry_delay&#39;,\n &#39;retry_errors&#39;,\n &#39;retweet&#39;,\n &#39;retweeters&#39;,\n &#39;retweets&#39;,\n &#39;retweets_of_me&#39;,\n &#39;reverse_geocode&#39;,\n &#39;saved_searches&#39;,\n &#39;search&#39;,\n &#39;search_host&#39;,\n &#39;search_root&#39;,\n &#39;search_users&#39;,\n &#39;send_direct_message&#39;,\n &#39;set_settings&#39;,\n &#39;show_friendship&#39;,\n &#39;show_list_member&#39;,\n &#39;show_list_subscriber&#39;,\n &#39;statuses_lookup&#39;,\n &#39;subscribe_list&#39;,\n &#39;supported_languages&#39;,\n &#39;timeout&#39;,\n &#39;trends_available&#39;,\n &#39;trends_closest&#39;,\n &#39;trends_place&#39;,\n &#39;unretweet&#39;,\n &#39;unsubscribe_list&#39;,\n &#39;update_list&#39;,\n &#39;update_profile&#39;,\n &#39;update_profile_background_image&#39;,\n &#39;update_profile_banner&#39;,\n &#39;update_profile_image&#39;,\n &#39;update_status&#39;,\n &#39;update_with_media&#39;,\n &#39;upload_host&#39;,\n &#39;upload_root&#39;,\n &#39;user_timeline&#39;,\n &#39;verify_credentials&#39;,\n &#39;wait_on_rate_limit&#39;,\n &#39;wait_on_rate_limit_notify&#39;]"
     },
     "metadata": {},
     "execution_count": 5
    }
   ],
   "source": [
    "dir(TWITTER)"
   ]
  },
  {
   "cell_type": "code",
   "execution_count": 6,
   "metadata": {},
   "outputs": [
    {
     "output_type": "execute_result",
     "data": {
      "text/plain": "User(_api=&lt;tweepy.api.API object at 0x000002654CD40C70&gt;, _json={&#39;id&#39;: 14533379, &#39;id_str&#39;: &#39;14533379&#39;, &#39;name&#39;: &#39;George Fox University&#39;, &#39;screen_name&#39;: &#39;georgefox&#39;, &#39;location&#39;: &#39;Newberg, Oregon&#39;, &#39;profile_location&#39;: None, &#39;description&#39;: &quot;Be Known at Oregon&#39;s nationally recognized Christian university&quot;, &#39;url&#39;: &#39;https://t.co/qNWOFW4N04&#39;, &#39;entities&#39;: {&#39;url&#39;: {&#39;urls&#39;: [{&#39;url&#39;: &#39;https://t.co/qNWOFW4N04&#39;, &#39;expanded_url&#39;: &#39;https://www.georgefox.edu/&#39;, &#39;display_url&#39;: &#39;georgefox.edu&#39;, &#39;indices&#39;: [0, 23]}]}, &#39;description&#39;: {&#39;urls&#39;: []}}, &#39;protected&#39;: False, &#39;followers_count&#39;: 5252, &#39;friends_count&#39;: 652, &#39;listed_count&#39;: 125, &#39;created_at&#39;: &#39;Fri Apr 25 20:16:15 +0000 2008&#39;, &#39;favourites_count&#39;: 4219, &#39;utc_offset&#39;: None, &#39;time_zone&#39;: None, &#39;geo_enabled&#39;: True, &#39;verified&#39;: True, &#39;statuses_count&#39;: 4859, &#39;lang&#39;: None, &#39;status&#39;: {&#39;created_at&#39;: &#39;Thu Oct 01 16:03:32 +0000 2020&#39;, &#39;id&#39;: 1311698270813655042, &#39;id_str&#39;: &#39;1311698270813655042&#39;, &#39;text&#39;: &quot;📍 Crisman Crossing\\n\\nBuilt in 2015, it&#39;s the longest clear-span timber truss bridge in the contiguous United States.… https://t.co/so6JYlWzaR&quot;, &#39;truncated&#39;: True, &#39;entities&#39;: {&#39;hashtags&#39;: [], &#39;symbols&#39;: [], &#39;user_mentions&#39;: [], &#39;urls&#39;: [{&#39;url&#39;: &#39;https://t.co/so6JYlWzaR&#39;, &#39;expanded_url&#39;: &#39;https://twitter.com/i/web/status/1311698270813655042&#39;, &#39;display_url&#39;: &#39;twitter.com/i/web/status/1…&#39;, &#39;indices&#39;: [117, 140]}]}, &#39;source&#39;: &#39;&lt;a href=&quot;https://www.later.com&quot; rel=&quot;nofollow&quot;&gt;LaterMedia&lt;/a&gt;&#39;, &#39;in_reply_to_status_id&#39;: None, &#39;in_reply_to_status_id_str&#39;: None, &#39;in_reply_to_user_id&#39;: None, &#39;in_reply_to_user_id_str&#39;: None, &#39;in_reply_to_screen_name&#39;: None, &#39;geo&#39;: None, &#39;coordinates&#39;: None, &#39;place&#39;: None, &#39;contributors&#39;: None, &#39;is_quote_status&#39;: False, &#39;retweet_count&#39;: 0, &#39;favorite_count&#39;: 18, &#39;favorited&#39;: False, &#39;retweeted&#39;: False, &#39;possibly_sensitive&#39;: False, &#39;lang&#39;: &#39;en&#39;}, &#39;contributors_enabled&#39;: False, &#39;is_translator&#39;: False, &#39;is_translation_enabled&#39;: False, &#39;profile_background_color&#39;: &#39;FFFFFF&#39;, &#39;profile_background_image_url&#39;: &#39;http://abs.twimg.com/images/themes/theme1/bg.png&#39;, &#39;profile_background_image_url_https&#39;: &#39;https://abs.twimg.com/images/themes/theme1/bg.png&#39;, &#39;profile_background_tile&#39;: False, &#39;profile_image_url&#39;: &#39;http://pbs.twimg.com/profile_images/1173980309567627269/zKI26HTv_normal.jpg&#39;, &#39;profile_image_url_https&#39;: &#39;https://pbs.twimg.com/profile_images/1173980309567627269/zKI26HTv_normal.jpg&#39;, &#39;profile_banner_url&#39;: &#39;https://pbs.twimg.com/profile_banners/14533379/1401302911&#39;, &#39;profile_link_color&#39;: &#39;5C7527&#39;, &#39;profile_sidebar_border_color&#39;: &#39;87BC44&#39;, &#39;profile_sidebar_fill_color&#39;: &#39;E0FF92&#39;, &#39;profile_text_color&#39;: &#39;000000&#39;, &#39;profile_use_background_image&#39;: True, &#39;has_extended_profile&#39;: True, &#39;default_profile&#39;: False, &#39;default_profile_image&#39;: False, &#39;following&#39;: True, &#39;follow_request_sent&#39;: False, &#39;notifications&#39;: False, &#39;translator_type&#39;: &#39;none&#39;}, id=14533379, id_str=&#39;14533379&#39;, name=&#39;George Fox University&#39;, screen_name=&#39;georgefox&#39;, location=&#39;Newberg, Oregon&#39;, profile_location=None, description=&quot;Be Known at Oregon&#39;s nationally recognized Christian university&quot;, url=&#39;https://t.co/qNWOFW4N04&#39;, entities={&#39;url&#39;: {&#39;urls&#39;: [{&#39;url&#39;: &#39;https://t.co/qNWOFW4N04&#39;, &#39;expanded_url&#39;: &#39;https://www.georgefox.edu/&#39;, &#39;display_url&#39;: &#39;georgefox.edu&#39;, &#39;indices&#39;: [0, 23]}]}, &#39;description&#39;: {&#39;urls&#39;: []}}, protected=False, followers_count=5252, friends_count=652, listed_count=125, created_at=datetime.datetime(2008, 4, 25, 20, 16, 15), favourites_count=4219, utc_offset=None, time_zone=None, geo_enabled=True, verified=True, statuses_count=4859, lang=None, status=Status(_api=&lt;tweepy.api.API object at 0x000002654CD40C70&gt;, _json={&#39;created_at&#39;: &#39;Thu Oct 01 16:03:32 +0000 2020&#39;, &#39;id&#39;: 1311698270813655042, &#39;id_str&#39;: &#39;1311698270813655042&#39;, &#39;text&#39;: &quot;📍 Crisman Crossing\\n\\nBuilt in 2015, it&#39;s the longest clear-span timber truss bridge in the contiguous United States.… https://t.co/so6JYlWzaR&quot;, &#39;truncated&#39;: True, &#39;entities&#39;: {&#39;hashtags&#39;: [], &#39;symbols&#39;: [], &#39;user_mentions&#39;: [], &#39;urls&#39;: [{&#39;url&#39;: &#39;https://t.co/so6JYlWzaR&#39;, &#39;expanded_url&#39;: &#39;https://twitter.com/i/web/status/1311698270813655042&#39;, &#39;display_url&#39;: &#39;twitter.com/i/web/status/1…&#39;, &#39;indices&#39;: [117, 140]}]}, &#39;source&#39;: &#39;&lt;a href=&quot;https://www.later.com&quot; rel=&quot;nofollow&quot;&gt;LaterMedia&lt;/a&gt;&#39;, &#39;in_reply_to_status_id&#39;: None, &#39;in_reply_to_status_id_str&#39;: None, &#39;in_reply_to_user_id&#39;: None, &#39;in_reply_to_user_id_str&#39;: None, &#39;in_reply_to_screen_name&#39;: None, &#39;geo&#39;: None, &#39;coordinates&#39;: None, &#39;place&#39;: None, &#39;contributors&#39;: None, &#39;is_quote_status&#39;: False, &#39;retweet_count&#39;: 0, &#39;favorite_count&#39;: 18, &#39;favorited&#39;: False, &#39;retweeted&#39;: False, &#39;possibly_sensitive&#39;: False, &#39;lang&#39;: &#39;en&#39;}, created_at=datetime.datetime(2020, 10, 1, 16, 3, 32), id=1311698270813655042, id_str=&#39;1311698270813655042&#39;, text=&quot;📍 Crisman Crossing\\n\\nBuilt in 2015, it&#39;s the longest clear-span timber truss bridge in the contiguous United States.… https://t.co/so6JYlWzaR&quot;, truncated=True, entities={&#39;hashtags&#39;: [], &#39;symbols&#39;: [], &#39;user_mentions&#39;: [], &#39;urls&#39;: [{&#39;url&#39;: &#39;https://t.co/so6JYlWzaR&#39;, &#39;expanded_url&#39;: &#39;https://twitter.com/i/web/status/1311698270813655042&#39;, &#39;display_url&#39;: &#39;twitter.com/i/web/status/1…&#39;, &#39;indices&#39;: [117, 140]}]}, source=&#39;LaterMedia&#39;, source_url=&#39;https://www.later.com&#39;, in_reply_to_status_id=None, in_reply_to_status_id_str=None, in_reply_to_user_id=None, in_reply_to_user_id_str=None, in_reply_to_screen_name=None, geo=None, coordinates=None, place=None, contributors=None, is_quote_status=False, retweet_count=0, favorite_count=18, favorited=False, retweeted=False, possibly_sensitive=False, lang=&#39;en&#39;), contributors_enabled=False, is_translator=False, is_translation_enabled=False, profile_background_color=&#39;FFFFFF&#39;, profile_background_image_url=&#39;http://abs.twimg.com/images/themes/theme1/bg.png&#39;, profile_background_image_url_https=&#39;https://abs.twimg.com/images/themes/theme1/bg.png&#39;, profile_background_tile=False, profile_image_url=&#39;http://pbs.twimg.com/profile_images/1173980309567627269/zKI26HTv_normal.jpg&#39;, profile_image_url_https=&#39;https://pbs.twimg.com/profile_images/1173980309567627269/zKI26HTv_normal.jpg&#39;, profile_banner_url=&#39;https://pbs.twimg.com/profile_banners/14533379/1401302911&#39;, profile_link_color=&#39;5C7527&#39;, profile_sidebar_border_color=&#39;87BC44&#39;, profile_sidebar_fill_color=&#39;E0FF92&#39;, profile_text_color=&#39;000000&#39;, profile_use_background_image=True, has_extended_profile=True, default_profile=False, default_profile_image=False, following=True, follow_request_sent=False, notifications=False, translator_type=&#39;none&#39;)"
     },
     "metadata": {},
     "execution_count": 6
    }
   ],
   "source": [
    "twitter_user = TWITTER.get_user('georgefox')\n",
    "twitter_user"
   ]
  },
  {
   "cell_type": "code",
   "execution_count": 7,
   "metadata": {},
   "outputs": [
    {
     "output_type": "execute_result",
     "data": {
      "text/plain": "14533379"
     },
     "metadata": {},
     "execution_count": 7
    }
   ],
   "source": [
    "twitter_user.id"
   ]
  },
  {
   "cell_type": "code",
   "execution_count": 8,
   "metadata": {},
   "outputs": [
    {
     "output_type": "execute_result",
     "data": {
      "text/plain": "tps://pbs.twimg.com/media/EhrFWwLUcAAJeix.jpg&#39;, &#39;url&#39;: &#39;https://t.co/bo8AmpZjyW&#39;, &#39;display_url&#39;: &#39;pic.twitter.com/bo8AmpZjyW&#39;, &#39;expanded_url&#39;: &#39;https://twitter.com/georgefox/status/1304574292714115072/photo/1&#39;, &#39;type&#39;: &#39;photo&#39;, &#39;sizes&#39;: {&#39;thumb&#39;: {&#39;w&#39;: 150, &#39;h&#39;: 150, &#39;resize&#39;: &#39;crop&#39;}, &#39;medium&#39;: {&#39;w&#39;: 1080, &#39;h&#39;: 1080, &#39;resize&#39;: &#39;fit&#39;}, &#39;large&#39;: {&#39;w&#39;: 1080, &#39;h&#39;: 1080, &#39;resize&#39;: &#39;fit&#39;}, &#39;small&#39;: {&#39;w&#39;: 680, &#39;h&#39;: 680, &#39;resize&#39;: &#39;fit&#39;}}}, {&#39;id&#39;: 1304572036782596096, &#39;id_str&#39;: &#39;1304572036782596096&#39;, &#39;indices&#39;: [54, 77], &#39;media_url&#39;: &#39;http://pbs.twimg.com/media/EhrFWwRVoAAv-Q8.jpg&#39;, &#39;media_url_https&#39;: &#39;https://pbs.twimg.com/media/EhrFWwRVoAAv-Q8.jpg&#39;, &#39;url&#39;: &#39;https://t.co/bo8AmpZjyW&#39;, &#39;display_url&#39;: &#39;pic.twitter.com/bo8AmpZjyW&#39;, &#39;expanded_url&#39;: &#39;https://twitter.com/georgefox/status/1304574292714115072/photo/1&#39;, &#39;type&#39;: &#39;photo&#39;, &#39;sizes&#39;: {&#39;medium&#39;: {&#39;w&#39;: 1080, &#39;h&#39;: 1080, &#39;resize&#39;: &#39;fit&#39;}, &#39;thumb&#39;: {&#39;w&#39;: 150, &#39;h&#39;: 150, &#39;resize&#39;: &#39;crop&#39;}, &#39;large&#39;: {&#39;w&#39;: 1080, &#39;h&#39;: 1080, &#39;resize&#39;: &#39;fit&#39;}, &#39;small&#39;: {&#39;w&#39;: 680, &#39;h&#39;: 680, &#39;resize&#39;: &#39;fit&#39;}}}, {&#39;id&#39;: 1304572036782596097, &#39;id_str&#39;: &#39;1304572036782596097&#39;, &#39;indices&#39;: [54, 77], &#39;media_url&#39;: &#39;http://pbs.twimg.com/media/EhrFWwRVoAE5wDN.jpg&#39;, &#39;media_url_https&#39;: &#39;https://pbs.twimg.com/media/EhrFWwRVoAE5wDN.jpg&#39;, &#39;url&#39;: &#39;https://t.co/bo8AmpZjyW&#39;, &#39;display_url&#39;: &#39;pic.twitter.com/bo8AmpZjyW&#39;, &#39;expanded_url&#39;: &#39;https://twitter.com/georgefox/status/1304574292714115072/photo/1&#39;, &#39;type&#39;: &#39;photo&#39;, &#39;sizes&#39;: {&#39;thumb&#39;: {&#39;w&#39;: 150, &#39;h&#39;: 150, &#39;resize&#39;: &#39;crop&#39;}, &#39;small&#39;: {&#39;w&#39;: 680, &#39;h&#39;: 680, &#39;resize&#39;: &#39;fit&#39;}, &#39;medium&#39;: {&#39;w&#39;: 1080, &#39;h&#39;: 1080, &#39;resize&#39;: &#39;fit&#39;}, &#39;large&#39;: {&#39;w&#39;: 1080, &#39;h&#39;: 1080, &#39;resize&#39;: &#39;fit&#39;}}}, {&#39;id&#39;: 1304572036908490753, &#39;id_str&#39;: &#39;1304572036908490753&#39;, &#39;indices&#39;: [54, 77], &#39;media_url&#39;: &#39;http://pbs.twimg.com/media/EhrFWwvWoAEZsWM.jpg&#39;, &#39;media_url_https&#39;: &#39;https://pbs.twimg.com/media/EhrFWwvWoAEZsWM.jpg&#39;, &#39;url&#39;: &#39;https://t.co/bo8AmpZjyW&#39;, &#39;display_url&#39;: &#39;pic.twitter.com/bo8AmpZjyW&#39;, &#39;expanded_url&#39;: &#39;https://twitter.com/georgefox/status/1304574292714115072/photo/1&#39;, &#39;type&#39;: &#39;photo&#39;, &#39;sizes&#39;: {&#39;thumb&#39;: {&#39;w&#39;: 150, &#39;h&#39;: 150, &#39;resize&#39;: &#39;crop&#39;}, &#39;small&#39;: {&#39;w&#39;: 680, &#39;h&#39;: 680, &#39;resize&#39;: &#39;fit&#39;}, &#39;medium&#39;: {&#39;w&#39;: 1080, &#39;h&#39;: 1080, &#39;resize&#39;: &#39;fit&#39;}, &#39;large&#39;: {&#39;w&#39;: 1080, &#39;h&#39;: 1080, &#39;resize&#39;: &#39;fit&#39;}}}]}, source=&#39;Twitter Web App&#39;, source_url=&#39;https://mobile.twitter.com&#39;, in_reply_to_status_id=1304574290260561922, in_reply_to_status_id_str=&#39;1304574290260561922&#39;, in_reply_to_user_id=14533379, in_reply_to_user_id_str=&#39;14533379&#39;, in_reply_to_screen_name=&#39;georgefox&#39;, author=User(_api=&lt;tweepy.api.API object at 0x000002654CD40C70&gt;, _json={&#39;id&#39;: 14533379, &#39;id_str&#39;: &#39;14533379&#39;, &#39;name&#39;: &#39;George Fox University&#39;, &#39;screen_name&#39;: &#39;georgefox&#39;, &#39;location&#39;: &#39;Newberg, Oregon&#39;, &#39;description&#39;: &quot;Be Known at Oregon&#39;s nationally recognized Christian university&quot;, &#39;url&#39;: &#39;https://t.co/qNWOFW4N04&#39;, &#39;entities&#39;: {&#39;url&#39;: {&#39;urls&#39;: [{&#39;url&#39;: &#39;https://t.co/qNWOFW4N04&#39;, &#39;expanded_url&#39;: &#39;https://www.georgefox.edu/&#39;, &#39;display_url&#39;: &#39;georgefox.edu&#39;, &#39;indices&#39;: [0, 23]}]}, &#39;description&#39;: {&#39;urls&#39;: []}}, &#39;protected&#39;: False, &#39;followers_count&#39;: 5252, &#39;friends_count&#39;: 652, &#39;listed_count&#39;: 125, &#39;created_at&#39;: &#39;Fri Apr 25 20:16:15 +0000 2008&#39;, &#39;favourites_count&#39;: 4219, &#39;utc_offset&#39;: None, &#39;time_zone&#39;: None, &#39;geo_enabled&#39;: True, &#39;verified&#39;: True, &#39;statuses_count&#39;: 4859, &#39;lang&#39;: None, &#39;contributors_enabled&#39;: False, &#39;is_translator&#39;: False, &#39;is_translation_enabled&#39;: False, &#39;profile_background_color&#39;: &#39;FFFFFF&#39;, &#39;profile_background_image_url&#39;: &#39;http://abs.twimg.com/images/themes/theme1/bg.png&#39;, &#39;profile_background_image_url_https&#39;: &#39;https://abs.twimg.com/images/themes/theme1/bg.png&#39;, &#39;profile_background_tile&#39;: False, &#39;profile_image_url&#39;: &#39;http://pbs.twimg.com/profile_images/1173980309567627269/zKI26HTv_normal.jpg&#39;, &#39;profile_image_url_https&#39;: &#39;https://pbs.twimg.com/profile_images/1173980309567627269/zKI26HTv_normal.jpg&#39;, &#39;profile_banner_url&#39;: &#39;https://pbs.twimg.com/profile_banners/14533379/1401302911&#39;, &#39;profile_link_color&#39;: &#39;5C7527&#39;, &#39;profile_sidebar_border_color&#39;: &#39;87BC44&#39;, &#39;profile_sidebar_fill_color&#39;: &#39;E0FF92&#39;, &#39;profile_text_color&#39;: &#39;000000&#39;, &#39;profile_use_background_image&#39;: True, &#39;has_extended_profile&#39;: True, &#39;default_profile&#39;: False, &#39;default_profile_image&#39;: False, &#39;following&#39;: True, &#39;follow_request_sent&#39;: False, &#39;notifications&#39;: False, &#39;translator_type&#39;: &#39;none&#39;}, id=14533379, id_str=&#39;14533379&#39;, name=&#39;George Fox University&#39;, screen_name=&#39;georgefox&#39;, location=&#39;Newberg, Oregon&#39;, description=&quot;Be Known at Oregon&#39;s nationally recognized Christian university&quot;, url=&#39;https://t.co/qNWOFW4N04&#39;, entities={&#39;url&#39;: {&#39;urls&#39;: [{&#39;url&#39;: &#39;https://t.co/qNWOFW4N04&#39;, &#39;expanded_url&#39;: &#39;https://www.georgefox.edu/&#39;, &#39;display_url&#39;: &#39;georgefox.edu&#39;, &#39;indices&#39;: [0, 23]}]}, &#39;description&#39;: {&#39;urls&#39;: []}}, protected=False, followers_count=5252, friends_count=652, listed_count=125, created_at=datetime.datetime(2008, 4, 25, 20, 16, 15), favourites_count=4219, utc_offset=None, time_zone=None, geo_enabled=True, verified=True, statuses_count=4859, lang=None, contributors_enabled=False, is_translator=False, is_translation_enabled=False, profile_background_color=&#39;FFFFFF&#39;, profile_background_image_url=&#39;http://abs.twimg.com/images/themes/theme1/bg.png&#39;, profile_background_image_url_https=&#39;https://abs.twimg.com/images/themes/theme1/bg.png&#39;, profile_background_tile=False, profile_image_url=&#39;http://pbs.twimg.com/profile_images/1173980309567627269/zKI26HTv_normal.jpg&#39;, profile_image_url_https=&#39;https://pbs.twimg.com/profile_images/1173980309567627269/zKI26HTv_normal.jpg&#39;, profile_banner_url=&#39;https://pbs.twimg.com/profile_banners/14533379/1401302911&#39;, profile_link_color=&#39;5C7527&#39;, profile_sidebar_border_color=&#39;87BC44&#39;, profile_sidebar_fill_color=&#39;E0FF92&#39;, profile_text_color=&#39;000000&#39;, profile_use_background_image=True, has_extended_profile=True, default_profile=False, default_profile_image=False, following=True, follow_request_sent=False, notifications=False, translator_type=&#39;none&#39;), user=User(_api=&lt;tweepy.api.API object at 0x000002654CD40C70&gt;, _json={&#39;id&#39;: 14533379, &#39;id_str&#39;: &#39;14533379&#39;, &#39;name&#39;: &#39;George Fox University&#39;, &#39;screen_name&#39;: &#39;georgefox&#39;, &#39;location&#39;: &#39;Newberg, Oregon&#39;, &#39;description&#39;: &quot;Be Known at Oregon&#39;s nationally recognized Christian university&quot;, &#39;url&#39;: &#39;https://t.co/qNWOFW4N04&#39;, &#39;entities&#39;: {&#39;url&#39;: {&#39;urls&#39;: [{&#39;url&#39;: &#39;https://t.co/qNWOFW4N04&#39;, &#39;expanded_url&#39;: &#39;https://www.georgefox.edu/&#39;, &#39;display_url&#39;: &#39;georgefox.edu&#39;, &#39;indices&#39;: [0, 23]}]}, &#39;description&#39;: {&#39;urls&#39;: []}}, &#39;protected&#39;: False, &#39;followers_count&#39;: 5252, &#39;friends_count&#39;: 652, &#39;listed_count&#39;: 125, &#39;created_at&#39;: &#39;Fri Apr 25 20:16:15 +0000 2008&#39;, &#39;favourites_count&#39;: 4219, &#39;utc_offset&#39;: None, &#39;time_zone&#39;: None, &#39;geo_enabled&#39;: True, &#39;verified&#39;: True, &#39;statuses_count&#39;: 4859, &#39;lang&#39;: None, &#39;contributors_enabled&#39;: False, &#39;is_translator&#39;: False, &#39;is_translation_enabled&#39;: False, &#39;profile_background_color&#39;: &#39;FFFFFF&#39;, &#39;profile_background_image_url&#39;: &#39;http://abs.twimg.com/images/themes/theme1/bg.png&#39;, &#39;profile_background_image_url_https&#39;: &#39;https://abs.twimg.com/images/themes/theme1/bg.png&#39;, &#39;profile_background_tile&#39;: False, &#39;profile_image_url&#39;: &#39;http://pbs.twimg.com/profile_images/1173980309567627269/zKI26HTv_normal.jpg&#39;, &#39;profile_image_url_https&#39;: &#39;https://pbs.twimg.com/profile_images/1173980309567627269/zKI26HTv_normal.jpg&#39;, &#39;profile_banner_url&#39;: &#39;https://pbs.twimg.com/profile_banners/14533379/1401302911&#39;, &#39;profile_link_color&#39;: &#39;5C7527&#39;, &#39;profile_sidebar_border_color&#39;: &#39;87BC44&#39;, &#39;profile_sidebar_fill_color&#39;: &#39;E0FF92&#39;, &#39;profile_text_color&#39;: &#39;000000&#39;, &#39;profile_use_background_image&#39;: True, &#39;has_extended_profile&#39;: True, &#39;default_profile&#39;: False, &#39;default_profile_image&#39;: False, &#39;following&#39;: True, &#39;follow_request_sent&#39;: False, &#39;notifications&#39;: False, &#39;translator_type&#39;: &#39;none&#39;}, id=14533379, id_str=&#39;14533379&#39;, name=&#39;George Fox University&#39;, screen_name=&#39;georgefox&#39;, location=&#39;Newberg, Oregon&#39;, description=&quot;Be Known at Oregon&#39;s nationally recognized Christian university&quot;, url=&#39;https://t.co/qNWOFW4N04&#39;, entities={&#39;url&#39;: {&#39;urls&#39;: [{&#39;url&#39;: &#39;https://t.co/qNWOFW4N04&#39;, &#39;expanded_url&#39;: &#39;https://www.georgefox.edu/&#39;, &#39;display_url&#39;: &#39;georgefox.edu&#39;, &#39;indices&#39;: [0, 23]}]}, &#39;description&#39;: {&#39;urls&#39;: []}}, protected=False, followers_count=5252, friends_count=652, listed_count=125, created_at=datetime.datetime(2008, 4, 25, 20, 16, 15), favourites_count=4219, utc_offset=None, time_zone=None, geo_enabled=True, verified=True, statuses_count=4859, lang=None, contributors_enabled=False, is_translator=False, is_translation_enabled=False, profile_background_color=&#39;FFFFFF&#39;, profile_background_image_url=&#39;http://abs.twimg.com/images/themes/theme1/bg.png&#39;, profile_background_image_url_https=&#39;https://abs.twimg.com/images/themes/theme1/bg.png&#39;, profile_background_tile=False, profile_image_url=&#39;http://pbs.twimg.com/profile_images/1173980309567627269/zKI26HTv_normal.jpg&#39;, profile_image_url_https=&#39;https://pbs.twimg.com/profile_images/1173980309567627269/zKI26HTv_normal.jpg&#39;, profile_banner_url=&#39;https://pbs.twimg.com/profile_banners/14533379/1401302911&#39;, profile_link_color=&#39;5C7527&#39;, profile_sidebar_border_color=&#39;87BC44&#39;, profile_sidebar_fill_color=&#39;E0FF92&#39;, profile_text_color=&#39;000000&#39;, profile_use_background_image=True, has_extended_profile=True, default_profile=False, default_profile_image=False, following=True, follow_request_sent=False, notifications=False, translator_type=&#39;none&#39;), geo=None, coordinates=None, place=None, contributors=None, is_quote_status=False, retweet_count=0, favorite_count=5, favorited=False, retweeted=False, possibly_sensitive=False, lang=&#39;en&#39;),\n Status(_api=&lt;tweepy.api.API object at 0x000002654CD40C70&gt;, _json={&#39;created_at&#39;: &#39;Sat Sep 12 00:15:23 +0000 2020&#39;, &#39;id&#39;: 1304574290260561922, &#39;id_str&#39;: &#39;1304574290260561922&#39;, &#39;text&#39;: &#39;We have some good news to share from Vice President for Student Life Brad Lau!\\u2060\\n\\n➡️Check the thread below for an up… https://t.co/zmvcbHAQur&#39;, &#39;truncated&#39;: True, &#39;entities&#39;: {&#39;hashtags&#39;: [], &#39;symbols&#39;: [], &#39;user_mentions&#39;: [], &#39;urls&#39;: [{&#39;url&#39;: &#39;https://t.co/zmvcbHAQur&#39;, &#39;expanded_url&#39;: &#39;https://twitter.com/i/web/status/1304574290260561922&#39;, &#39;display_url&#39;: &#39;twitter.com/i/web/status/1…&#39;, &#39;indices&#39;: [117, 140]}]}, &#39;source&#39;: &#39;&lt;a href=&quot;https://mobile.twitter.com&quot; rel=&quot;nofollow&quot;&gt;Twitter Web App&lt;/a&gt;&#39;, &#39;in_reply_to_status_id&#39;: None, &#39;in_reply_to_status_id_str&#39;: None, &#39;in_reply_to_user_id&#39;: None, &#39;in_reply_to_user_id_str&#39;: None, &#39;in_reply_to_screen_name&#39;: None, &#39;user&#39;: {&#39;id&#39;: 14533379, &#39;id_str&#39;: &#39;14533379&#39;, &#39;name&#39;: &#39;George Fox University&#39;, &#39;screen_name&#39;: &#39;georgefox&#39;, &#39;location&#39;: &#39;Newberg, Oregon&#39;, &#39;description&#39;: &quot;Be Known at Oregon&#39;s nationally recognized Christian university&quot;, &#39;url&#39;: &#39;https://t.co/qNWOFW4N04&#39;, &#39;entities&#39;: {&#39;url&#39;: {&#39;urls&#39;: [{&#39;url&#39;: &#39;https://t.co/qNWOFW4N04&#39;, &#39;expanded_url&#39;: &#39;https://www.georgefox.edu/&#39;, &#39;display_url&#39;: &#39;georgefox.edu&#39;, &#39;indices&#39;: [0, 23]}]}, &#39;description&#39;: {&#39;urls&#39;: []}}, &#39;protected&#39;: False, &#39;followers_count&#39;: 5252, &#39;friends_count&#39;: 652, &#39;listed_count&#39;: 125, &#39;created_at&#39;: &#39;Fri Apr 25 20:16:15 +0000 2008&#39;, &#39;favourites_count&#39;: 4219, &#39;utc_offset&#39;: None, &#39;time_zone&#39;: None, &#39;geo_enabled&#39;: True, &#39;verified&#39;: True, &#39;statuses_count&#39;: 4859, &#39;lang&#39;: None, &#39;contributors_enabled&#39;: False, &#39;is_translator&#39;: False, &#39;is_translation_enabled&#39;: False, &#39;profile_background_color&#39;: &#39;FFFFFF&#39;, &#39;profile_background_image_url&#39;: &#39;http://abs.twimg.com/images/themes/theme1/bg.png&#39;, &#39;profile_background_image_url_https&#39;: &#39;https://abs.twimg.com/images/themes/theme1/bg.png&#39;, &#39;profile_background_tile&#39;: False, &#39;profile_image_url&#39;: &#39;http://pbs.twimg.com/profile_images/1173980309567627269/zKI26HTv_normal.jpg&#39;, &#39;profile_image_url_https&#39;: &#39;https://pbs.twimg.com/profile_images/1173980309567627269/zKI26HTv_normal.jpg&#39;, &#39;profile_banner_url&#39;: &#39;https://pbs.twimg.com/profile_banners/14533379/1401302911&#39;, &#39;profile_link_color&#39;: &#39;5C7527&#39;, &#39;profile_sidebar_border_color&#39;: &#39;87BC44&#39;, &#39;profile_sidebar_fill_color&#39;: &#39;E0FF92&#39;, &#39;profile_text_color&#39;: &#39;000000&#39;, &#39;profile_use_background_image&#39;: True, &#39;has_extended_profile&#39;: True, &#39;default_profile&#39;: False, &#39;default_profile_image&#39;: False, &#39;following&#39;: True, &#39;follow_request_sent&#39;: False, &#39;notifications&#39;: False, &#39;translator_type&#39;: &#39;none&#39;}, &#39;geo&#39;: None, &#39;coordinates&#39;: None, &#39;place&#39;: None, &#39;contributors&#39;: None, &#39;is_quote_status&#39;: False, &#39;retweet_count&#39;: 1, &#39;favorite_count&#39;: 16, &#39;favorited&#39;: False, &#39;retweeted&#39;: False, &#39;possibly_sensitive&#39;: False, &#39;lang&#39;: &#39;en&#39;}, created_at=datetime.datetime(2020, 9, 12, 0, 15, 23), id=1304574290260561922, id_str=&#39;1304574290260561922&#39;, text=&#39;We have some good news to share from Vice President for Student Life Brad Lau!\\u2060\\n\\n➡️Check the thread below for an up… https://t.co/zmvcbHAQur&#39;, truncated=True, entities={&#39;hashtags&#39;: [], &#39;symbols&#39;: [], &#39;user_mentions&#39;: [], &#39;urls&#39;: [{&#39;url&#39;: &#39;https://t.co/zmvcbHAQur&#39;, &#39;expanded_url&#39;: &#39;https://twitter.com/i/web/status/1304574290260561922&#39;, &#39;display_url&#39;: &#39;twitter.com/i/web/status/1…&#39;, &#39;indices&#39;: [117, 140]}]}, source=&#39;Twitter Web App&#39;, source_url=&#39;https://mobile.twitter.com&#39;, in_reply_to_status_id=None, in_reply_to_status_id_str=None, in_reply_to_user_id=None, in_reply_to_user_id_str=None, in_reply_to_screen_name=None, author=User(_api=&lt;tweepy.api.API object at 0x000002654CD40C70&gt;, _json={&#39;id&#39;: 14533379, &#39;id_str&#39;: &#39;14533379&#39;, &#39;name&#39;: &#39;George Fox University&#39;, &#39;screen_name&#39;: &#39;georgefox&#39;, &#39;location&#39;: &#39;Newberg, Oregon&#39;, &#39;description&#39;: &quot;Be Known at Oregon&#39;s nationally recognized Christian university&quot;, &#39;url&#39;: &#39;https://t.co/qNWOFW4N04&#39;, &#39;entities&#39;: {&#39;url&#39;: {&#39;urls&#39;: [{&#39;url&#39;: &#39;https://t.co/qNWOFW4N04&#39;, &#39;expanded_url&#39;: &#39;https://www.georgefox.edu/&#39;, &#39;display_url&#39;: &#39;georgefox.edu&#39;, &#39;indices&#39;: [0, 23]}]}, &#39;description&#39;: {&#39;urls&#39;: []}}, &#39;protected&#39;: False, &#39;followers_count&#39;: 5252, &#39;friends_count&#39;: 652, &#39;listed_count&#39;: 125, &#39;created_at&#39;: &#39;Fri Apr 25 20:16:15 +0000 2008&#39;, &#39;favourites_count&#39;: 4219, &#39;utc_offset&#39;: None, &#39;time_zone&#39;: None, &#39;geo_enabled&#39;: True, &#39;verified&#39;: True, &#39;statuses_count&#39;: 4859, &#39;lang&#39;: None, &#39;contributors_enabled&#39;: False, &#39;is_translator&#39;: False, &#39;is_translation_enabled&#39;: False, &#39;profile_background_color&#39;: &#39;FFFFFF&#39;, &#39;profile_background_image_url&#39;: &#39;http://abs.twimg.com/images/themes/theme1/bg.png&#39;, &#39;profile_background_image_url_https&#39;: &#39;https://abs.twimg.com/images/themes/theme1/bg.png&#39;, &#39;profile_background_tile&#39;: False, &#39;profile_image_url&#39;: &#39;http://pbs.twimg.com/profile_images/1173980309567627269/zKI26HTv_normal.jpg&#39;, &#39;profile_image_url_https&#39;: &#39;https://pbs.twimg.com/profile_images/1173980309567627269/zKI26HTv_normal.jpg&#39;, &#39;profile_banner_url&#39;: &#39;https://pbs.twimg.com/profile_banners/14533379/1401302911&#39;, &#39;profile_link_color&#39;: &#39;5C7527&#39;, &#39;profile_sidebar_border_color&#39;: &#39;87BC44&#39;, &#39;profile_sidebar_fill_color&#39;: &#39;E0FF92&#39;, &#39;profile_text_color&#39;: &#39;000000&#39;, &#39;profile_use_background_image&#39;: True, &#39;has_extended_profile&#39;: True, &#39;default_profile&#39;: False, &#39;default_profile_image&#39;: False, &#39;following&#39;: True, &#39;follow_request_sent&#39;: False, &#39;notifications&#39;: False, &#39;translator_type&#39;: &#39;none&#39;}, id=14533379, id_str=&#39;14533379&#39;, name=&#39;George Fox University&#39;, screen_name=&#39;georgefox&#39;, location=&#39;Newberg, Oregon&#39;, description=&quot;Be Known at Oregon&#39;s nationally recognized Christian university&quot;, url=&#39;https://t.co/qNWOFW4N04&#39;, entities={&#39;url&#39;: {&#39;urls&#39;: [{&#39;url&#39;: &#39;https://t.co/qNWOFW4N04&#39;, &#39;expanded_url&#39;: &#39;https://www.georgefox.edu/&#39;, &#39;display_url&#39;: &#39;georgefox.edu&#39;, &#39;indices&#39;: [0, 23]}]}, &#39;description&#39;: {&#39;urls&#39;: []}}, protected=False, followers_count=5252, friends_count=652, listed_count=125, created_at=datetime.datetime(2008, 4, 25, 20, 16, 15), favourites_count=4219, utc_offset=None, time_zone=None, geo_enabled=True, verified=True, statuses_count=4859, lang=None, contributors_enabled=False, is_translator=False, is_translation_enabled=False, profile_background_color=&#39;FFFFFF&#39;, profile_background_image_url=&#39;http://abs.twimg.com/images/themes/theme1/bg.png&#39;, profile_background_image_url_https=&#39;https://abs.twimg.com/images/themes/theme1/bg.png&#39;, profile_background_tile=False, profile_image_url=&#39;http://pbs.twimg.com/profile_images/1173980309567627269/zKI26HTv_normal.jpg&#39;, profile_image_url_https=&#39;https://pbs.twimg.com/profile_images/1173980309567627269/zKI26HTv_normal.jpg&#39;, profile_banner_url=&#39;https://pbs.twimg.com/profile_banners/14533379/1401302911&#39;, profile_link_color=&#39;5C7527&#39;, profile_sidebar_border_color=&#39;87BC44&#39;, profile_sidebar_fill_color=&#39;E0FF92&#39;, profile_text_color=&#39;000000&#39;, profile_use_background_image=True, has_extended_profile=True, default_profile=False, default_profile_image=False, following=True, follow_request_sent=False, notifications=False, translator_type=&#39;none&#39;), user=User(_api=&lt;tweepy.api.API object at 0x000002654CD40C70&gt;, _json={&#39;id&#39;: 14533379, &#39;id_str&#39;: &#39;14533379&#39;, &#39;name&#39;: &#39;George Fox University&#39;, &#39;screen_name&#39;: &#39;georgefox&#39;, &#39;location&#39;: &#39;Newberg, Oregon&#39;, &#39;description&#39;: &quot;Be Known at Oregon&#39;s nationally recognized Christian university&quot;, &#39;url&#39;: &#39;https://t.co/qNWOFW4N04&#39;, &#39;entities&#39;: {&#39;url&#39;: {&#39;urls&#39;: [{&#39;url&#39;: &#39;https://t.co/qNWOFW4N04&#39;, &#39;expanded_url&#39;: &#39;https://www.georgefox.edu/&#39;, &#39;display_url&#39;: &#39;georgefox.edu&#39;, &#39;indices&#39;: [0, 23]}]}, &#39;description&#39;: {&#39;urls&#39;: []}}, &#39;protected&#39;: False, &#39;followers_count&#39;: 5252, &#39;friends_count&#39;: 652, &#39;listed_count&#39;: 125, &#39;created_at&#39;: &#39;Fri Apr 25 20:16:15 +0000 2008&#39;, &#39;favourites_count&#39;: 4219, &#39;utc_offset&#39;: None, &#39;time_zone&#39;: None, &#39;geo_enabled&#39;: True, &#39;verified&#39;: True, &#39;statuses_count&#39;: 4859, &#39;lang&#39;: None, &#39;contributors_enabled&#39;: False, &#39;is_translator&#39;: False, &#39;is_translation_enabled&#39;: False, &#39;profile_background_color&#39;: &#39;FFFFFF&#39;, &#39;profile_background_image_url&#39;: &#39;http://abs.twimg.com/images/themes/theme1/bg.png&#39;, &#39;profile_background_image_url_https&#39;: &#39;https://abs.twimg.com/images/themes/theme1/bg.png&#39;, &#39;profile_background_tile&#39;: False, &#39;profile_image_url&#39;: &#39;http://pbs.twimg.com/profile_images/1173980309567627269/zKI26HTv_normal.jpg&#39;, &#39;profile_image_url_https&#39;: &#39;https://pbs.twimg.com/profile_images/1173980309567627269/zKI26HTv_normal.jpg&#39;, &#39;profile_banner_url&#39;: &#39;https://pbs.twimg.com/profile_banners/14533379/1401302911&#39;, &#39;profile_link_color&#39;: &#39;5C7527&#39;, &#39;profile_sidebar_border_color&#39;: &#39;87BC44&#39;, &#39;profile_sidebar_fill_color&#39;: &#39;E0FF92&#39;, &#39;profile_text_color&#39;: &#39;000000&#39;, &#39;profile_use_background_image&#39;: True, &#39;has_extended_profile&#39;: True, &#39;default_profile&#39;: False, &#39;default_profile_image&#39;: False, &#39;following&#39;: True, &#39;follow_request_sent&#39;: False, &#39;notifications&#39;: False, &#39;translator_type&#39;: &#39;none&#39;}, id=14533379, id_str=&#39;14533379&#39;, name=&#39;George Fox University&#39;, screen_name=&#39;georgefox&#39;, location=&#39;Newberg, Oregon&#39;, description=&quot;Be Known at Oregon&#39;s nationally recognized Christian university&quot;, url=&#39;https://t.co/qNWOFW4N04&#39;, entities={&#39;url&#39;: {&#39;urls&#39;: [{&#39;url&#39;: &#39;https://t.co/qNWOFW4N04&#39;, &#39;expanded_url&#39;: &#39;https://www.georgefox.edu/&#39;, &#39;display_url&#39;: &#39;georgefox.edu&#39;, &#39;indices&#39;: [0, 23]}]}, &#39;description&#39;: {&#39;urls&#39;: []}}, protected=False, followers_count=5252, friends_count=652, listed_count=125, created_at=datetime.datetime(2008, 4, 25, 20, 16, 15), favourites_count=4219, utc_offset=None, time_zone=None, geo_enabled=True, verified=True, statuses_count=4859, lang=None, contributors_enabled=False, is_translator=False, is_translation_enabled=False, profile_background_color=&#39;FFFFFF&#39;, profile_background_image_url=&#39;http://abs.twimg.com/images/themes/theme1/bg.png&#39;, profile_background_image_url_https=&#39;https://abs.twimg.com/images/themes/theme1/bg.png&#39;, profile_background_tile=False, profile_image_url=&#39;http://pbs.twimg.com/profile_images/1173980309567627269/zKI26HTv_normal.jpg&#39;, profile_image_url_https=&#39;https://pbs.twimg.com/profile_images/1173980309567627269/zKI26HTv_normal.jpg&#39;, profile_banner_url=&#39;https://pbs.twimg.com/profile_banners/14533379/1401302911&#39;, profile_link_color=&#39;5C7527&#39;, profile_sidebar_border_color=&#39;87BC44&#39;, profile_sidebar_fill_color=&#39;E0FF92&#39;, profile_text_color=&#39;000000&#39;, profile_use_background_image=True, has_extended_profile=True, default_profile=False, default_profile_image=False, following=True, follow_request_sent=False, notifications=False, translator_type=&#39;none&#39;), geo=None, coordinates=None, place=None, contributors=None, is_quote_status=False, retweet_count=1, favorite_count=16, favorited=False, retweeted=False, possibly_sensitive=False, lang=&#39;en&#39;)]"
     },
     "metadata": {},
     "execution_count": 8
    }
   ],
   "source": [
    "gfu_tweets = twitter_user.timeline()\n",
    "gfu_tweets"
   ]
  },
  {
   "cell_type": "code",
   "execution_count": 9,
   "metadata": {},
   "outputs": [
    {
     "output_type": "execute_result",
     "data": {
      "text/plain": "&quot;📍 Crisman Crossing\\n\\nBuilt in 2015, it&#39;s the longest clear-span timber truss bridge in the contiguous United States.… https://t.co/so6JYlWzaR&quot;"
     },
     "metadata": {},
     "execution_count": 9
    }
   ],
   "source": [
    "gfu_tweets[0].text"
   ]
  },
  {
   "cell_type": "code",
   "execution_count": 10,
   "metadata": {},
   "outputs": [
    {
     "output_type": "execute_result",
     "data": {
      "text/plain": "20"
     },
     "metadata": {},
     "execution_count": 10
    }
   ],
   "source": [
    "len(gfu_tweets)"
   ]
  },
  {
   "cell_type": "code",
   "execution_count": 24,
   "metadata": {},
   "outputs": [
    {
     "output_type": "execute_result",
     "data": {
      "text/plain": "153"
     },
     "metadata": {},
     "execution_count": 24
    }
   ],
   "source": [
    "gfu_tweets = twitter_user.timeline(count=200,\n",
    "                                    exclude_replies=True,\n",
    "                                    include_rts=False,\n",
    "                                    # max_id='1256671752974815233',\n",
    "                                    tweet_mode='extended')\n",
    "len(gfu_tweets)"
   ]
  },
  {
   "cell_type": "code",
   "execution_count": 25,
   "metadata": {},
   "outputs": [
    {
     "output_type": "execute_result",
     "data": {
      "text/plain": "&#39;&quot;The Lord will fight for you; you need only to be still.&quot;\\n- Exodus 14:14\\n\\nThanks to sophomore Jessie Lim for submitting her favorite Bible verse! Bruins, we want to share your favorite verse, too. Send us a message with suggestions! https://t.co/l7tVQv5ueu&#39;"
     },
     "metadata": {},
     "execution_count": 25
    }
   ],
   "source": [
    "gfu_tweets[1].full_text"
   ]
  },
  {
   "cell_type": "code",
   "execution_count": null,
   "metadata": {},
   "outputs": [],
   "source": []
  },
  {
   "cell_type": "code",
   "execution_count": 14,
   "metadata": {},
   "outputs": [
    {
     "output_type": "execute_result",
     "data": {
      "text/plain": "1221951229816950784"
     },
     "metadata": {},
     "execution_count": 14
    }
   ],
   "source": [
    "gfu_tweets[119].id"
   ]
  },
  {
   "cell_type": "markdown",
   "metadata": {},
   "source": [
    "### SpaCy Embeddings"
   ]
  },
  {
   "cell_type": "code",
   "execution_count": 15,
   "metadata": {},
   "outputs": [],
   "source": [
    "import spacy"
   ]
  },
  {
   "cell_type": "code",
   "execution_count": 18,
   "metadata": {},
   "outputs": [],
   "source": [
    "nlp = spacy.load('en_core_web_md', disable=['tagger', 'parser'])"
   ]
  },
  {
   "cell_type": "code",
   "execution_count": 20,
   "metadata": {
    "tags": []
   },
   "outputs": [
    {
     "output_type": "stream",
     "name": "stdout",
     "text": "red True False\nyellow True False\ngreen True False\ncalico True False\ngingham True False\ncat True False\ndog True False\nrunciple False True\n"
    }
   ],
   "source": [
    "tokens = nlp (\"red yellow green calico gingham cat dog runciple\")\n",
    "\n",
    "for token in tokens:\n",
    "    print(token.text, token.has_vector, token.is_oov)"
   ]
  },
  {
   "cell_type": "code",
   "execution_count": 23,
   "metadata": {},
   "outputs": [
    {
     "output_type": "execute_result",
     "data": {
      "text/plain": "array([ 5.5927e-01,  1.0030e-01,  5.2843e-02, -2.1847e-01,  3.4298e-01,\n       -6.7822e-02, -2.0785e-02,  4.0033e-02, -5.7272e-01,  3.8212e-01,\n        2.6032e-01, -1.9436e-02, -4.0651e-01, -8.5109e-03,  8.7484e-02,\n       -1.8175e-01,  4.1168e-01,  1.1662e+00,  1.5113e-01, -8.0327e-01,\n       -3.8688e-01, -1.5060e-02,  2.4522e-01,  1.2160e-01, -3.2031e-01,\n        2.0703e-02,  1.8117e-02, -2.2724e-01, -6.7915e-02,  3.8088e-01,\n        2.1342e-01,  2.4979e-01, -4.4018e-01, -3.7758e-01, -1.5165e-01,\n       -7.5294e-01, -4.6969e-01, -8.8369e-03,  6.8153e-02,  4.0918e-02,\n        1.7465e-01,  4.6478e-01, -1.5414e-01,  1.2419e-01,  2.7706e-01,\n       -3.7344e-01, -5.2920e-01,  2.7145e-01,  2.0922e-01, -9.6134e-02,\n        3.5755e-01,  1.0861e-01,  4.8107e-02, -5.1411e-01,  3.0799e-01,\n        3.0393e-01, -7.8958e-02,  6.4852e-01, -1.6751e-02, -1.6818e-01,\n       -4.4819e-01,  1.5851e-01,  4.1696e-01, -4.2181e-01, -9.2332e-02,\n        3.6150e-01,  2.0851e-02,  4.5624e-01,  5.4863e-01,  1.1631e-01,\n       -1.7632e-01, -9.1067e-02,  2.2748e-02,  2.0133e-01,  1.1674e-01,\n       -1.7266e-01,  9.1611e-02, -2.5218e-01, -2.8483e-01, -3.7608e-01,\n       -3.0378e-01, -6.0834e-01,  5.6222e-01,  6.5837e-02,  5.9149e-01,\n       -1.2508e-01,  9.6619e-01,  9.1824e-01,  2.8706e-01,  1.0992e-01,\n        3.8062e-01,  4.7188e-01,  3.5944e-01,  3.8474e-01,  1.0197e-01,\n        2.9406e-01, -1.8960e-01,  1.6578e-01, -1.5650e-01, -7.2822e-01,\n       -1.3265e-01,  3.1176e-01,  6.5719e-02,  1.6291e-01, -3.4648e-01,\n       -8.5028e-01, -1.4665e-01, -7.2795e-02,  5.1283e-03,  1.0308e+00,\n       -6.3616e-01, -5.6807e-01,  3.6131e-01,  2.8742e-01,  1.8182e-01,\n        3.6704e-02, -1.5684e-02, -3.2465e-02, -4.5252e-01, -2.2424e-01,\n       -9.6535e-02, -5.2628e-01, -9.3222e-02,  4.6252e-01,  2.0979e-01,\n        1.1393e-01,  3.9031e-01,  3.6809e-01, -1.8449e-01, -2.9089e-01,\n       -1.7751e-01,  1.9607e-01, -8.2482e-01,  3.8064e-01,  7.2657e-02,\n        2.7749e-01, -2.6201e-01, -2.2371e-01, -2.7613e-01,  1.1814e-01,\n       -1.9897e+00,  7.7321e-01,  8.7137e-01, -8.4087e-02,  2.1333e-01,\n        3.2292e-01,  5.5550e-01,  2.2018e-01, -3.7570e-01, -1.3003e-01,\n        6.5227e-02, -2.2161e-01, -1.4638e-01, -9.3884e-02, -5.3977e-01,\n       -3.4330e-01, -6.0994e-01,  6.1177e-02, -7.1722e-01, -2.2486e-02,\n       -1.8279e-01, -2.6500e-01, -8.8147e-02,  1.7345e-01, -7.2668e-02,\n       -1.4783e-01, -2.2453e-01, -4.4881e-01, -1.6620e-01,  4.6607e-01,\n        1.3851e-01, -1.6167e-01, -1.3894e-01, -5.8376e-01,  1.1311e-01,\n        2.1517e-01,  1.4234e-01,  2.1673e-01,  7.0408e-01, -2.1987e-01,\n       -1.2523e-01, -1.9352e-01,  2.2196e-02, -9.2585e-02, -1.0505e-01,\n        5.3097e-01, -3.7669e-01, -1.0892e-01, -4.2674e-01,  2.5441e-01,\n        4.4583e-01, -3.5333e-01, -2.1757e-01, -1.3688e-01,  2.9463e-01,\n       -6.1472e-02,  3.2818e-01, -6.0898e-03, -8.0001e-02,  3.6801e-01,\n       -4.2040e-01,  1.2780e-01,  2.2536e-01,  5.1490e-02,  3.6489e-01,\n       -4.8937e-01,  3.6351e-01, -1.7178e-01, -9.7509e-01,  6.2057e-01,\n        4.0091e-02,  1.1336e+00,  3.1585e-03, -3.2301e-01, -1.7877e-01,\n        6.6220e-01, -4.5834e-01, -2.2605e-01,  9.0921e-02, -2.6096e-01,\n       -1.6308e-01, -8.1955e-02, -1.1124e-01, -3.7569e-01,  4.2451e-01,\n        3.5275e-03,  1.6737e-01, -4.5987e-02, -3.7109e-01,  1.1010e-01,\n       -7.1567e-01,  1.2792e-01, -9.7374e-02,  3.7446e-01,  2.8159e-01,\n       -6.5739e-02, -2.9640e-01, -1.3178e-01,  7.5516e-01,  4.9236e-01,\n       -5.1715e-01, -4.5678e-01, -5.3111e-01,  3.0168e-01, -4.7610e-01,\n        3.2143e-03,  1.5246e-01,  1.0129e-01, -2.7365e-02,  3.0357e-01,\n        3.1068e-01,  6.8912e-01, -4.5022e-01,  7.0214e-01, -2.7990e-01,\n       -7.3377e-02,  1.9023e-03,  1.5153e-01,  2.7160e-01,  3.2257e-01,\n        4.5102e-01,  2.4631e-01, -5.5519e-01,  1.2306e-01, -1.1853e-01,\n        4.5878e-01,  3.6021e-01,  3.1444e-02, -5.5645e-01,  2.8718e-01,\n       -4.4766e-01, -5.7771e-01,  2.1981e-01,  1.7841e-02, -8.3632e-02,\n       -4.1730e-01,  4.3948e-02,  2.0802e-01, -2.5297e-01, -2.6137e-02,\n        3.4649e-01, -4.6501e-02, -5.7135e-01,  1.5127e-02, -1.2491e-01,\n        1.9191e-01,  2.0206e-01,  8.7440e-01,  2.9712e-01, -2.4826e-01,\n       -7.4829e-01, -1.3132e-01, -3.6493e-02, -4.7396e-01, -6.6308e-01,\n        2.1594e-01,  2.3745e-01,  3.8471e-01,  3.4635e-01,  1.9013e-01],\n      dtype=float32)"
     },
     "metadata": {},
     "execution_count": 23
    }
   ],
   "source": [
    "gingham = nlp('gingham')\n",
    "gingham.vector"
   ]
  },
  {
   "cell_type": "code",
   "execution_count": 26,
   "metadata": {},
   "outputs": [
    {
     "output_type": "execute_result",
     "data": {
      "text/plain": "array([-7.23081082e-02,  1.41302601e-01, -1.39195934e-01, -7.94980675e-03,\n        1.07655086e-01, -4.34816107e-02,  5.84434979e-02, -8.96291584e-02,\n       -6.01540506e-02,  1.83333015e+00, -2.21541896e-01,  3.93403471e-02,\n        7.80926943e-02, -2.68812515e-02, -1.05995610e-01, -4.80344296e-02,\n       -5.72148375e-02,  9.46477592e-01, -2.07455307e-01,  4.46116962e-02,\n        2.09134892e-02, -5.89052141e-02,  1.01881148e-02, -4.24831808e-02,\n       -5.99768460e-02,  9.30323601e-02, -1.86100081e-02, -5.09895347e-02,\n        8.82718936e-02, -4.08511162e-02, -4.20357734e-02,  1.10991836e-01,\n       -8.63004923e-02,  6.42746240e-02,  6.21561147e-02, -3.93615924e-02,\n       -3.77211757e-02,  1.59547348e-02, -3.15989442e-02, -4.68943529e-02,\n       -1.06516272e-01, -4.46286006e-03, -4.02949238e-03, -1.62609696e-01,\n        8.05452839e-03,  8.29362795e-02, -4.48811352e-02,  9.70396623e-02,\n        4.15864624e-02, -2.78285518e-02, -8.58972222e-02,  8.05322081e-02,\n        3.76786664e-02, -6.96799010e-02,  6.49433658e-02,  4.66359258e-02,\n       -3.18694748e-02,  1.33995852e-02, -9.86143574e-02, -1.19990241e-02,\n       -2.12605093e-02, -1.15347444e-03, -3.83084603e-02,  1.05473682e-01,\n        6.93320930e-02, -4.30729911e-02, -9.27571431e-02,  1.27165183e-01,\n        9.12730098e-02,  1.21624410e-01,  4.81040515e-02,  5.15642241e-02,\n        1.83702841e-01, -8.32867920e-02,  6.30614683e-02,  8.00204650e-02,\n        1.21997125e-01, -1.00310601e-01, -1.18563352e-02,  1.87863857e-01,\n       -5.91930188e-02,  9.65605304e-02, -1.82864368e-01,  2.67657116e-02,\n        7.59194270e-02, -1.47934705e-01,  1.09304950e-01, -2.64367521e-01,\n        2.19919577e-01,  3.22617218e-02, -1.24366373e-01, -1.47352694e-03,\n        4.31531817e-02,  5.03919423e-02,  2.50654723e-02,  2.29821019e-02,\n       -3.54180336e-02, -1.05335094e-01, -6.06889948e-02, -2.55101528e-02,\n       -3.43213230e-02, -2.57253721e-02, -6.90548345e-02, -1.16698436e-01,\n        4.98933606e-02, -3.59427214e-01,  1.68027431e-01,  2.74946466e-02,\n        5.29588312e-02,  4.98673283e-02,  2.53088046e-02, -1.28307268e-01,\n        2.14430392e-01, -2.59690974e-02,  3.76855060e-02,  6.33873139e-03,\n       -5.56730479e-03, -3.88369262e-02, -4.79307435e-02, -4.48162958e-04,\n        6.22987561e-02, -1.20395534e-01,  2.56000273e-03,  1.30213156e-01,\n        7.27109388e-02, -7.56916311e-03,  1.81666594e-02, -1.05572194e-02,\n        8.15643892e-02,  9.18368716e-03,  1.35168089e-02, -3.87016721e-02,\n       -4.23188917e-02, -1.13691650e-02, -5.28570786e-02,  4.42865975e-02,\n       -1.87230576e-02, -5.91454562e-03, -4.85324264e-02, -1.62871387e-02,\n       -1.32179534e+00,  1.20501637e-01,  5.10659404e-02,  2.71916371e-02,\n       -3.68459597e-02, -4.25701179e-02, -5.44086285e-03,  3.49633731e-02,\n       -8.61008465e-02, -2.38003545e-02, -5.02339657e-03,  1.18735440e-01,\n        2.08179802e-02, -2.71091126e-02, -7.83462264e-03,  2.42249179e-03,\n       -4.54196073e-02, -1.69154331e-01, -1.62803009e-02, -8.83968994e-02,\n        5.24738841e-02,  6.35777637e-02, -1.09629631e-01, -8.71786773e-02,\n       -2.75408830e-02, -5.43644167e-02,  1.02901764e-01, -3.10107041e-02,\n        8.30980316e-02,  4.52932678e-02,  1.02734510e-02,  5.72939552e-02,\n        1.80385962e-01, -7.90442079e-02,  9.66335647e-03,  6.12156354e-02,\n        1.13284495e-02, -7.23019093e-02, -4.50876467e-02,  4.47110226e-03,\n        4.96757496e-03, -9.76370722e-02, -4.18736078e-02, -4.19382527e-02,\n        8.84363241e-03, -3.92819457e-02, -9.38402787e-02, -2.97869593e-02,\n        2.30063940e-03, -3.71691138e-02, -2.15338171e-02, -3.46097015e-02,\n       -1.38748055e-02,  3.16997245e-02,  7.47649074e-02,  8.85535926e-02,\n       -8.48153159e-02, -1.27735153e-01,  1.42531186e-01,  1.78300336e-01,\n       -3.40441726e-02, -1.09649405e-01, -9.26263109e-02, -9.10722241e-02,\n        2.21385956e-01, -2.09469572e-02,  5.03061488e-02,  7.65883699e-02,\n        1.11862533e-02,  1.83076207e-02, -2.75949333e-02, -1.23293452e-01,\n       -2.24842764e-02, -1.08156592e-01,  1.68648157e-02,  1.54383257e-01,\n       -1.36749344e-02, -5.24601573e-03, -2.43296951e-01,  5.59566468e-02,\n        1.04831522e-02, -6.75020888e-02, -7.49313040e-03,  1.11903280e-01,\n       -1.59379561e-02, -2.19417773e-02, -9.84444935e-03,  7.12265670e-02,\n       -5.94058074e-02, -4.85177934e-02, -5.32103665e-02,  5.41561376e-03,\n        4.14518639e-02,  7.54282698e-02, -7.79298767e-02, -4.34822366e-02,\n       -9.29661393e-02, -8.34806263e-02, -1.21817447e-01,  2.68877707e-02,\n        2.62098461e-02, -4.38010599e-03, -1.42380986e-02,  6.64430633e-02,\n        1.47100285e-01, -1.09714150e-01, -7.61959925e-02, -9.63013843e-02,\n       -8.52377713e-02,  1.00254491e-01,  5.52668646e-02,  8.76941066e-03,\n       -1.66432217e-01, -3.67883705e-02,  8.57645422e-02,  2.54689574e-01,\n        2.19791513e-02, -8.60074162e-02, -9.04439911e-02,  4.01727036e-02,\n        1.17639890e-02,  7.92423338e-02,  5.09389378e-02,  7.08520561e-02,\n        5.10844998e-02, -1.09844372e-01,  1.34593183e-02,  1.13796182e-01,\n        3.43913734e-01,  7.74023235e-02,  1.01384586e-02, -3.72557789e-02,\n       -1.28839210e-01, -6.59229234e-02, -1.90499481e-02, -3.02867107e-02,\n        3.13621648e-02,  9.62499008e-02,  2.18153577e-02,  1.27671778e-01,\n        1.14665434e-01, -3.90706547e-02,  2.26489045e-02, -7.37373158e-02,\n        8.76008533e-03, -1.28774449e-01,  1.24447860e-01, -7.32571110e-02,\n        9.00713280e-02, -2.41810661e-02, -9.32578221e-02, -2.13037375e-02,\n       -5.26566692e-02, -1.42946432e-03,  7.14871362e-02, -5.72400093e-02,\n       -6.97956830e-02, -7.19695464e-02, -8.26145709e-03,  4.53332402e-02],\n      dtype=float32)"
     },
     "metadata": {},
     "execution_count": 26
    }
   ],
   "source": [
    "tweet_embedding = nlp(gfu_tweets[1].full_text)\n",
    "tweet_embedding.vector"
   ]
  },
  {
   "cell_type": "markdown",
   "metadata": {},
   "source": [
    "### Bringing it all together"
   ]
  },
  {
   "cell_type": "code",
   "execution_count": null,
   "metadata": {},
   "outputs": [],
   "source": [
    "def vectorize_tweet(nlp, tweet_text):\n",
    "    return nlp(tweet_text).vector"
   ]
  },
  {
   "cell_type": "code",
   "execution_count": null,
   "metadata": {},
   "outputs": [],
   "source": []
  },
  {
   "cell_type": "code",
   "execution_count": null,
   "metadata": {},
   "outputs": [],
   "source": [
    "def add_or_update_user(username, nlp):\n",
    "    try:\n",
    "        twitter_user = TWITTER.get_user(username)\n",
    "    \n",
    "        tweets = twitter_user.timeline(count=200,\n",
    "                                    exclude_replies=True,\n",
    "                                    include_rts=False,\n",
    "                                    tweet_mode='extended')\n",
    "\n",
    "embeddings = vectorize_tweet(nlp,tweets[1].full_text)\n",
    "\n",
    "except Exception as e:\n",
    "    print('Error processing {}: {}'.format(username,e))\n",
    "\n",
    "return tweets, embeddings"
   ]
  },
  {
   "cell_type": "code",
   "execution_count": null,
   "metadata": {},
   "outputs": [],
   "source": []
  },
  {
   "cell_type": "code",
   "execution_count": null,
   "metadata": {},
   "outputs": [],
   "source": [
    "gfu_tweets = twitter_user.timeline(count=200,\n",
    "                                    exclude_replies=True,\n",
    "                                    include_rts=False,\n",
    "                                    # max_id='1256671752974815233',\n",
    "                                    tweet_mode='extended')"
   ]
  },
  {
   "source": [
    "##Load and save SpaCy model\n"
   ],
   "cell_type": "markdown",
   "metadata": {}
  },
  {
   "cell_type": "code",
   "execution_count": 5,
   "metadata": {},
   "outputs": [],
   "source": [
    "import spacy\n",
    "import en_core_web_md\n",
    "\n",
    "nlp = en_core_web_md.load()\n",
    "nlp.to_disk('../spacy_md_model/')"
   ]
  },
  {
   "cell_type": "code",
   "execution_count": 6,
   "metadata": {},
   "outputs": [
    {
     "output_type": "execute_result",
     "data": {
      "text/plain": [
       "array([-1.53457597e-01,  2.11234376e-01, -1.26739949e-01,  1.94174007e-01,\n",
       "        1.14765406e-01, -1.15412608e-01,  4.93603982e-02, -2.46444583e-01,\n",
       "        4.46093418e-02,  2.10374212e+00, -1.82510927e-01,  1.45763606e-01,\n",
       "       -3.53668034e-02,  6.79749548e-02, -7.88497999e-02, -1.74701691e-01,\n",
       "        4.07776013e-02,  1.40899193e+00, -1.07541993e-01, -1.55827597e-01,\n",
       "       -8.54099989e-02, -3.83985996e-01,  5.69459908e-02,  2.23402858e-01,\n",
       "        4.42302004e-02,  8.53776038e-02,  6.05276003e-02, -9.07878056e-02,\n",
       "        9.50199962e-02, -4.99046035e-02, -1.12726405e-01,  1.03243396e-01,\n",
       "        1.81337193e-01, -1.69436604e-01, -6.34581000e-02, -6.68001249e-02,\n",
       "        6.21243007e-02, -3.28278005e-01, -2.67654091e-01, -3.85504007e-01,\n",
       "        1.99356005e-01,  1.07405998e-01,  2.25518197e-01, -2.96577603e-01,\n",
       "        2.07099970e-02, -8.13930035e-02, -1.25738010e-01,  2.01302022e-02,\n",
       "       -9.93079990e-02,  9.96734053e-02, -2.60810584e-01,  2.90399402e-01,\n",
       "        4.06178012e-02,  5.52061982e-02,  2.75330003e-02,  1.59403592e-01,\n",
       "        1.09515116e-01, -2.54775975e-02,  5.12760170e-02, -2.64537781e-01,\n",
       "       -3.31536345e-02,  1.27992034e-01, -1.44083411e-01,  2.56005585e-01,\n",
       "        7.25739896e-02, -1.39788195e-01, -2.83989608e-01,  1.25081599e-01,\n",
       "       -4.47739940e-03,  2.85310000e-01,  7.56959990e-02, -2.53059976e-02,\n",
       "        1.53867409e-01, -1.00449190e-01, -1.42481923e-02, -1.90126806e-01,\n",
       "       -1.34049002e-02, -9.68707949e-02, -3.58633995e-01,  2.55800009e-01,\n",
       "        6.01552017e-02, -5.20795807e-02, -7.13256001e-02,  6.74836561e-02,\n",
       "        1.61370605e-01, -7.06636086e-02, -1.27481818e-02, -2.38432199e-01,\n",
       "        1.82500005e-01, -7.33019933e-02, -1.85487598e-01,  2.86700010e-01,\n",
       "        2.93315062e-03, -5.75382039e-02, -8.78311992e-02,  1.96238995e-01,\n",
       "       -7.14821965e-02, -5.29080033e-02,  3.10033977e-01,  4.15760055e-02,\n",
       "        1.67385995e-01, -2.18208004e-02, -7.37380013e-02,  1.92939803e-01,\n",
       "        1.91103414e-01, -8.53983998e-01,  2.19971016e-01, -7.84811974e-02,\n",
       "       -9.18220542e-03, -5.26315980e-02, -2.97800004e-02,  3.38627994e-02,\n",
       "       -1.18151203e-01,  1.77744403e-01, -2.01451212e-01,  1.83712989e-01,\n",
       "       -2.87099987e-01,  3.07788998e-01, -1.66884009e-02,  1.83861792e-01,\n",
       "        6.78419787e-03, -1.37381002e-01, -8.15118030e-02, -3.63448039e-02,\n",
       "       -6.63462058e-02,  2.15631008e-01, -3.47083986e-01, -3.55621994e-01,\n",
       "        1.48975030e-02,  5.60305938e-02,  2.69031972e-02, -8.84114057e-02,\n",
       "        4.41531800e-02,  1.96616009e-01,  2.68737406e-01,  4.66256812e-02,\n",
       "       -9.32857990e-02,  1.86812401e-01,  8.89358073e-02, -6.47550076e-02,\n",
       "       -1.17673409e+00,  1.00945994e-01, -4.34139967e-02,  4.09168005e-02,\n",
       "       -6.46894053e-02, -3.63803416e-01, -8.89388025e-02, -7.36999959e-02,\n",
       "        2.58207977e-01, -7.15855956e-02,  5.90225980e-02,  3.16187367e-02,\n",
       "       -5.62320054e-02, -4.35010009e-02,  7.63233677e-02, -2.75225453e-02,\n",
       "       -2.30103090e-01, -1.18102595e-01,  8.98159891e-02, -1.25851601e-01,\n",
       "       -4.36311960e-02,  2.69069970e-02,  9.69807953e-02, -1.20988013e-02,\n",
       "       -3.76443297e-01, -1.19229794e-01, -9.64340009e-03,  1.20476164e-01,\n",
       "        4.76994254e-02, -7.53660053e-02,  1.33017004e-01, -2.07718402e-01,\n",
       "        2.94465959e-01, -1.97515994e-01, -2.69580215e-01,  1.52364019e-02,\n",
       "        1.24760275e-03, -5.09452000e-02, -7.49807954e-02,  7.96571150e-02,\n",
       "       -1.85952038e-02, -6.33249953e-02, -1.61158014e-02, -1.48662806e-01,\n",
       "        1.39283210e-01,  4.44964841e-02, -3.22011799e-01,  1.18980005e-01,\n",
       "       -9.73881036e-02, -9.53583941e-02, -2.59591997e-01,  4.13975976e-02,\n",
       "       -3.57800394e-01,  1.48713991e-01,  3.36740017e-01,  1.87166005e-01,\n",
       "       -1.28770992e-01,  1.12186018e-02,  7.03481957e-02, -2.51565993e-01,\n",
       "        6.66351989e-02, -2.24141806e-01, -3.41331810e-01,  1.12987801e-01,\n",
       "        1.68052584e-01, -5.78177981e-02,  5.02553955e-02,  1.40435979e-01,\n",
       "        9.32330042e-02,  1.43584400e-01, -5.50154075e-02, -6.96220109e-03,\n",
       "        9.89354029e-02, -2.26367801e-01,  2.62671173e-01,  2.79362977e-01,\n",
       "       -9.41982046e-02,  2.45797992e-01, -8.88336077e-02,  1.93704396e-01,\n",
       "       -7.84638003e-02, -1.83700591e-01, -8.93549994e-02,  1.40827402e-01,\n",
       "        6.22337647e-02, -1.79072008e-01,  5.77564016e-02,  1.17959999e-01,\n",
       "        2.56260000e-02, -8.01761970e-02, -6.53100014e-02,  2.03323990e-01,\n",
       "       -7.11872131e-02,  4.55495976e-02, -3.68881226e-01, -7.42288977e-02,\n",
       "        1.31408095e-01,  3.19474116e-02, -1.80379301e-01,  1.04289994e-01,\n",
       "        6.21994026e-02, -1.58795975e-02,  1.90678209e-01, -9.76057947e-02,\n",
       "        2.57428795e-01, -2.60288082e-02,  2.22480386e-01, -2.34761998e-01,\n",
       "       -9.66406018e-02, -7.15101957e-02, -8.63355994e-02, -1.51209980e-02,\n",
       "        1.79756999e-01, -4.69861999e-02, -2.03566011e-02,  3.33065808e-01,\n",
       "        2.42311031e-01, -1.62794009e-01,  1.97006375e-01,  1.27348006e-02,\n",
       "        6.68841898e-02,  4.74522039e-02,  1.48450015e-02, -2.62094028e-02,\n",
       "       -1.23239157e-03,  8.86930004e-02,  1.48966402e-01,  2.24307105e-01,\n",
       "        6.46477997e-01, -1.56770378e-01, -2.29382031e-02, -1.12870395e-01,\n",
       "       -1.00466408e-01, -1.30739987e-01, -4.73943949e-02, -1.21255800e-01,\n",
       "       -2.53420025e-02, -6.12704046e-02,  1.96426198e-01,  2.06790805e-01,\n",
       "        3.88022989e-01,  2.66630232e-01,  5.79140186e-02, -3.24279398e-01,\n",
       "       -1.03120685e-01, -2.38205403e-01, -3.47580016e-03,  9.12600197e-03,\n",
       "        1.52779981e-01, -1.66368589e-01,  1.73900125e-03,  8.66212770e-02,\n",
       "        6.57447949e-02, -5.26996031e-02,  4.03884836e-02, -1.60871804e-01,\n",
       "       -1.89713210e-01, -1.04934990e-01, -1.34579986e-01,  3.53485420e-02],\n",
       "      dtype=float32)"
      ]
     },
     "metadata": {},
     "execution_count": 6
    }
   ],
   "source": [
    "nlp2 = spacy.load('../spacy_md_model/')\n",
    "nlp2('This is a sample sentence').vector"
   ]
  },
  {
   "cell_type": "code",
   "execution_count": null,
   "metadata": {},
   "outputs": [],
   "source": []
  }
 ],
 "metadata": {
  "colab": {
   "collapsed_sections": [],
   "name": "DSPT6_APIs_Demo.ipynb",
   "provenance": []
  },
  "kernelspec": {
   "name": "Python 3.8.3 64-bit ('TwitOff_SW': pipenv)",
   "display_name": "Python 3.8.3 64-bit ('TwitOff_SW': pipenv)",
   "metadata": {
    "interpreter": {
     "hash": "fcacbe5871a78e010df78a8a7c775a5c99f4726353a24a3dac4b34fc6c4531a5"
    }
   }
  },
  "language_info": {
   "codemirror_mode": {
    "name": "ipython",
    "version": 3
   },
   "file_extension": ".py",
   "mimetype": "text/x-python",
   "name": "python",
   "nbconvert_exporter": "python",
   "pygments_lexer": "ipython3",
   "version": "3.8.3-final"
  },
  "toc": {
   "base_numbering": 1,
   "nav_menu": {},
   "number_sections": true,
   "sideBar": true,
   "skip_h1_title": false,
   "title_cell": "Table of Contents",
   "title_sidebar": "Contents",
   "toc_cell": true,
   "toc_position": {},
   "toc_section_display": true,
   "toc_window_display": false
  }
 },
 "nbformat": 4,
 "nbformat_minor": 4
}